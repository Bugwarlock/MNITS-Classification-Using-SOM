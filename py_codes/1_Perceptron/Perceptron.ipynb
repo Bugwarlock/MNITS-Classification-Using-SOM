{
 "cells": [
  {
   "cell_type": "code",
   "execution_count": 6,
   "metadata": {},
   "outputs": [
    {
     "name": "stdout",
     "output_type": "stream",
     "text": [
      "[-3.4  9.1]\n",
      "-2\n"
     ]
    }
   ],
   "source": [
    "import pandas as pan\n",
    "import numpy as np\n",
    "q1 = np.array(pan.read_excel(r'HW1_Q1_data.xlsx'))\n",
    "#we consider setosa and versicolor as 1 and -1 respectively\n",
    "q1[:50,-1] = -1\n",
    "q1[50:,-1] = 1\n",
    "summ = 0\n",
    "alpha = 1\n",
    "w = np.zeros(2)\n",
    "b = 0\n",
    "countzero = 1\n",
    "error = np.zeros(100)\n",
    "# class Neural:\n",
    "#     def __init__(self,q1):\n",
    "#         self.q1 = q1\n",
    "#     def update(self):\n",
    "#         h = 0\n",
    "#         while(countzero != 0):\n",
    "#             for counter in range(100):\n",
    "#                 summ = ((w[0]*q1[counter,0])+(w[1]*q1[counter,1])+b);\n",
    "#                 if (summ > 0):\n",
    "#                     h = 1\n",
    "#                 elif (summ < 0):\n",
    "#                      h = -1\n",
    "#                 else:\n",
    "#                      h = 0\n",
    "#                 error[counter] = q1[counter,-1] - h\n",
    "#                 if (error[counter] != 0):\n",
    "#                     w[0] = w[0] + (alpha*q1[counter,0]*error[counter])\n",
    "#                     w[1] = w[1] + (alpha*q1[counter,1]*error[counter])\n",
    "#                     b = b+(alpha*error[counter])\n",
    "#             countzero = np.count_nonzero(error)\n",
    "# perceptron = Neural(q1)\n",
    "# perceptron.update\n",
    "h = 0\n",
    "cycle = 0\n",
    "while(countzero != 0):\n",
    "    for counter in range(100):\n",
    "#         summ = ((w[0]*q1[counter,0])+(w[1]*q1[counter,1])+b)\n",
    "        summ = ((w[0]*q1[counter,0])+(w[1]*q1[counter,1]));\n",
    "        if (summ > 0):\n",
    "            h = 1\n",
    "        elif (summ < 0):\n",
    "                h = -1\n",
    "        else:\n",
    "                h = 0\n",
    "        error[counter] = q1[counter,-1] - h\n",
    "        if (error[counter] != 0):\n",
    "            w[0] = w[0] + (alpha*q1[counter,0]*q1[counter,-1])\n",
    "            w[1] = w[1] + (alpha*q1[counter,1]*q1[counter,-1])\n",
    "#             b = b+(alpha*q1[counter,-1])\n",
    "    countzero = np.count_nonzero(error)\n",
    "    cycle += 1\n",
    "# print(countzero)\n",
    "print(w)\n",
    "# print(cycle)\n",
    "print(b)\n",
    "\n"
   ]
  }
 ],
 "metadata": {
  "kernelspec": {
   "display_name": "Python 3",
   "language": "python",
   "name": "python3"
  },
  "language_info": {
   "codemirror_mode": {
    "name": "ipython",
    "version": 3
   },
   "file_extension": ".py",
   "mimetype": "text/x-python",
   "name": "python",
   "nbconvert_exporter": "python",
   "pygments_lexer": "ipython3",
   "version": "3.7.0"
  }
 },
 "nbformat": 4,
 "nbformat_minor": 2
}
