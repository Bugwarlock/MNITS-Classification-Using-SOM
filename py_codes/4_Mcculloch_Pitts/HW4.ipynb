{
 "cells": [
  {
   "cell_type": "code",
   "execution_count": 4,
   "metadata": {},
   "outputs": [
    {
     "name": "stdout",
     "output_type": "stream",
     "text": [
      "1\n"
     ]
    }
   ],
   "source": [
    "import numpy as np\n",
    "def mcc(x1,x2,w1,w2,activate):\n",
    "    summ = ((x1*w1)+(x2*w2))\n",
    "    if (summ >= activate):\n",
    "        return 1\n",
    "    else:\n",
    "        return 0\n",
    "x1=3\n",
    "x2=1\n",
    "# input('please enter x1,x2 respectively:',x1,x2)\n",
    "out = mcc(mcc(mcc(x1,x2,4,-1,-2),mcc(x1,x2,0,-1,-2),1,1,2),mcc(mcc(x1,x2,-4,-1,-14),mcc(x1,x2,0,1,-2),1,1,2),1,1,2)\n",
    "print(out)"
   ]
  }
 ],
 "metadata": {
  "kernelspec": {
   "display_name": "Python 3",
   "language": "python",
   "name": "python3"
  },
  "language_info": {
   "codemirror_mode": {
    "name": "ipython",
    "version": 3
   },
   "file_extension": ".py",
   "mimetype": "text/x-python",
   "name": "python",
   "nbconvert_exporter": "python",
   "pygments_lexer": "ipython3",
   "version": "3.7.0"
  }
 },
 "nbformat": 4,
 "nbformat_minor": 2
}
